{
 "cells": [
  {
   "cell_type": "code",
   "execution_count": 1,
   "id": "4a477868",
   "metadata": {},
   "outputs": [
    {
     "name": "stdout",
     "output_type": "stream",
     "text": [
      "Requirement already satisfied: wget==3.2 in c:\\users\\lenovo windows 10\\appdata\\local\\programs\\python\\python313\\lib\\site-packages (3.2)\n",
      "Note: you may need to restart the kernel to use updated packages.\n"
     ]
    },
    {
     "name": "stderr",
     "output_type": "stream",
     "text": [
      "\n",
      "[notice] A new release of pip is available: 24.3.1 -> 25.0.1\n",
      "[notice] To update, run: python.exe -m pip install --upgrade pip\n"
     ]
    }
   ],
   "source": [
    "pip install wget==3.2"
   ]
  },
  {
   "cell_type": "code",
   "execution_count": 2,
   "id": "5af3f4e3",
   "metadata": {},
   "outputs": [
    {
     "data": {
      "text/plain": [
       "'./dados.zip'"
      ]
     },
     "execution_count": 2,
     "metadata": {},
     "output_type": "execute_result"
    }
   ],
   "source": [
    "import wget\n",
    "\n",
    "wget.download(url='https://archive.ics.uci.edu/ml/machine-learning-databases/00312/dow_jones_index.zip', out='./dados.zip')"
   ]
  },
  {
   "cell_type": "code",
   "execution_count": 3,
   "id": "b9778203",
   "metadata": {},
   "outputs": [],
   "source": [
    "import zipfile\n",
    "\n",
    "with zipfile.ZipFile('./dados.zip', 'r') as fp:\n",
    "  fp.extractall('./dados')"
   ]
  },
  {
   "cell_type": "code",
   "execution_count": 4,
   "id": "264a320d",
   "metadata": {},
   "outputs": [],
   "source": [
    "import os\n",
    "\n",
    "os.rename('./dados/dow_jones_index.data', './dados/dow_jones_index.csv')"
   ]
  }
 ],
 "metadata": {
  "kernelspec": {
   "display_name": "Python 3",
   "language": "python",
   "name": "python3"
  },
  "language_info": {
   "codemirror_mode": {
    "name": "ipython",
    "version": 3
   },
   "file_extension": ".py",
   "mimetype": "text/x-python",
   "name": "python",
   "nbconvert_exporter": "python",
   "pygments_lexer": "ipython3",
   "version": "3.13.1"
  }
 },
 "nbformat": 4,
 "nbformat_minor": 5
}
