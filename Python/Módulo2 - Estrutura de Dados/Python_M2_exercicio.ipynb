{
  "nbformat": 4,
  "nbformat_minor": 0,
  "metadata": {
    "colab": {
      "provenance": [],
      "toc_visible": true
    },
    "kernelspec": {
      "name": "python3",
      "display_name": "Python 3"
    }
  },
  "cells": [
    {
      "cell_type": "markdown",
      "metadata": {
        "id": "KJqp9AANOCtf"
      },
      "source": [
        "<img src=\"https://raw.githubusercontent.com/andre-marcos-perez/ebac-course-utils/main/media/logo/newebac_logo_black_half.png\" alt=\"ebac-logo\">\n",
        "\n",
        "---\n",
        "\n",
        "# **Módulo** | Python: Estruturas de Dados\n",
        "Caderno de **Exercícios**<br>\n",
        "Professor [André Perez](https://www.linkedin.com/in/andremarcosperez/)\n",
        "\n",
        "---"
      ]
    },
    {
      "cell_type": "markdown",
      "metadata": {
        "id": "d9jDtUbDOE1-"
      },
      "source": [
        "# **Tópicos**\n",
        "\n",
        "<ol type=\"1\">\n",
        "  <li>Listas;</li>\n",
        "  <li>Conjuntos;</li>\n",
        "  <li>Dicionários.</li>\n",
        "</ol>"
      ]
    },
    {
      "cell_type": "markdown",
      "metadata": {
        "id": "SmoHgt-lwkpD"
      },
      "source": [
        "---"
      ]
    },
    {
      "cell_type": "markdown",
      "metadata": {
        "id": "GABI6OW8OfQ2"
      },
      "source": [
        "# **Exercícios**"
      ]
    },
    {
      "cell_type": "markdown",
      "metadata": {
        "id": "muD1vxozykSC"
      },
      "source": [
        "## 1\\. Listas"
      ]
    },
    {
      "cell_type": "markdown",
      "metadata": {
        "id": "ahrFfCuBxJKs"
      },
      "source": [
        "**Criei** uma lista chamada `filmes` com o nome dos 10 primeiros filmes mais bem avaliados no site no [IMDB](https://www.imdb.com/chart/top/). Imprima o resultado."
      ]
    },
    {
      "cell_type": "code",
      "metadata": {
        "id": "OgL6Hv3bzOHI",
        "colab": {
          "base_uri": "https://localhost:8080/"
        },
        "outputId": "9e0e66ee-5f66-4f93-94bc-e90bfa8473b0"
      },
      "source": [
        "\n",
        "filmes = [\n",
        "    \"Um Sonho de Liberdade (1994)\",\n",
        "    \"O Poderoso Chefão (1972)\",\n",
        "    \"Batman: O Cavaleiro das Trevas (2008)\",\n",
        "    \"O Poderoso Chefão: Parte II (1974)\",\n",
        "    \"12 Homens e Uma Sentença (1957)\",\n",
        "    \"A Lista de Schindler (1993)\",\n",
        "    \"O Senhor dos Anéis: O Retorno do Rei (2003)\",\n",
        "    \"Pulp Fiction: Tempo de Violência (1994)\",\n",
        "    \"O Senhor dos Anéis: A Sociedade do Anel (2001)\",\n",
        "    \"Star Wars: Episódio V – O Império Contra-Ataca (1980)\"\n",
        "]\n",
        "\n",
        "print(filmes)\n",
        "\n"
      ],
      "execution_count": 1,
      "outputs": [
        {
          "output_type": "stream",
          "name": "stdout",
          "text": [
            "['Um Sonho de Liberdade (1994)', 'O Poderoso Chefão (1972)', 'Batman: O Cavaleiro das Trevas (2008)', 'O Poderoso Chefão: Parte II (1974)', '12 Homens e Uma Sentença (1957)', 'A Lista de Schindler (1993)', 'O Senhor dos Anéis: O Retorno do Rei (2003)', 'Pulp Fiction: Tempo de Violência (1994)', 'O Senhor dos Anéis: A Sociedade do Anel (2001)', 'Star Wars: Episódio V – O Império Contra-Ataca (1980)']\n"
          ]
        }
      ]
    },
    {
      "cell_type": "markdown",
      "metadata": {
        "id": "KI9zQRT2xa7m"
      },
      "source": [
        "Simule a movimentação do *ranking*. Utilize os métodos `insert` e `pop` para trocar a posição do primeiro e do segundo filme da lista. Imprima o resultado.\n",
        "\n"
      ]
    },
    {
      "cell_type": "code",
      "source": [
        "print(filmes)\n",
        "primeiro_filme = filmes.pop(0)\n",
        "segundo_filme=filmes.pop(0)\n",
        "\n",
        "\n",
        "filmes.insert(0,segundo_filme)\n",
        "filmes.insert(1,primeiro_filme)\n",
        "print(filmes)\n"
      ],
      "metadata": {
        "colab": {
          "base_uri": "https://localhost:8080/"
        },
        "id": "nj2gZuJc2YGc",
        "outputId": "e07a7348-67d8-429a-d891-46e273d2f3bf"
      },
      "execution_count": 7,
      "outputs": [
        {
          "output_type": "stream",
          "name": "stdout",
          "text": [
            "['O Poderoso Chefão: Parte II (1974)', 'Batman: O Cavaleiro das Trevas (2008)', '12 Homens e Uma Sentença (1957)', 'A Lista de Schindler (1993)', 'O Senhor dos Anéis: O Retorno do Rei (2003)', 'Pulp Fiction: Tempo de Violência (1994)', 'O Senhor dos Anéis: A Sociedade do Anel (2001)', 'Star Wars: Episódio V – O Império Contra-Ataca (1980)']\n",
            "['Batman: O Cavaleiro das Trevas (2008)', 'O Poderoso Chefão: Parte II (1974)', '12 Homens e Uma Sentença (1957)', 'A Lista de Schindler (1993)', 'O Senhor dos Anéis: O Retorno do Rei (2003)', 'Pulp Fiction: Tempo de Violência (1994)', 'O Senhor dos Anéis: A Sociedade do Anel (2001)', 'Star Wars: Episódio V – O Império Contra-Ataca (1980)']\n"
          ]
        }
      ]
    },
    {
      "cell_type": "markdown",
      "metadata": {
        "id": "zMN1Q3jdwoJm"
      },
      "source": [
        "---"
      ]
    },
    {
      "cell_type": "markdown",
      "metadata": {
        "id": "lxa5L6uF0ZJE"
      },
      "source": [
        "## 2\\. Conjuntos"
      ]
    },
    {
      "cell_type": "markdown",
      "metadata": {
        "id": "9JahS2Kj0d5u"
      },
      "source": [
        "Aconteceu um erro no seu *ranking*. Simule a duplicação dos três últimos filmes da lista. Imprima o resultado."
      ]
    },
    {
      "cell_type": "code",
      "metadata": {
        "id": "BnjnLBNC6PGe",
        "colab": {
          "base_uri": "https://localhost:8080/"
        },
        "outputId": "af7e9b97-f4c8-41da-e905-ad914104f71b"
      },
      "source": [
        "\n",
        "filmes = [\n",
        "    \"Um Sonho de Liberdade (1994)\",\n",
        "    \"O Poderoso Chefão (1972)\",\n",
        "    \"Batman: O Cavaleiro das Trevas (2008)\",\n",
        "    \"O Poderoso Chefão: Parte II (1974)\",\n",
        "    \"12 Homens e Uma Sentença (1957)\",\n",
        "    \"A Lista de Schindler (1993)\",\n",
        "    \"O Senhor dos Anéis: O Retorno do Rei (2003)\",\n",
        "    \"Pulp Fiction: Tempo de Violência (1994)\",\n",
        "    \"O Senhor dos Anéis: A Sociedade do Anel (2001)\",\n",
        "    \"Star Wars: Episódio V – O Império Contra-Ataca (1980)\"\n",
        "]\n",
        "\n",
        "ultimos_filmes = filmes[-3:]\n",
        "filmes.extend(ultimos_filmes)\n",
        "print(filmes)\n"
      ],
      "execution_count": 9,
      "outputs": [
        {
          "output_type": "stream",
          "name": "stdout",
          "text": [
            "['Um Sonho de Liberdade (1994)', 'O Poderoso Chefão (1972)', 'Batman: O Cavaleiro das Trevas (2008)', 'O Poderoso Chefão: Parte II (1974)', '12 Homens e Uma Sentença (1957)', 'A Lista de Schindler (1993)', 'O Senhor dos Anéis: O Retorno do Rei (2003)', 'Pulp Fiction: Tempo de Violência (1994)', 'O Senhor dos Anéis: A Sociedade do Anel (2001)', 'Star Wars: Episódio V – O Império Contra-Ataca (1980)', 'Pulp Fiction: Tempo de Violência (1994)', 'O Senhor dos Anéis: A Sociedade do Anel (2001)', 'Star Wars: Episódio V – O Império Contra-Ataca (1980)']\n"
          ]
        }
      ]
    },
    {
      "cell_type": "markdown",
      "metadata": {
        "id": "suxTfCJB6ZiX"
      },
      "source": [
        "Utiliza a conversão `set` e `list` para remover os valores duplicados. Imprima o resultado."
      ]
    },
    {
      "cell_type": "code",
      "metadata": {
        "id": "ZvUGN-0n6joM",
        "colab": {
          "base_uri": "https://localhost:8080/"
        },
        "outputId": "59f126d3-4247-4fa8-a1b7-8f0ab902a46e"
      },
      "source": [
        "filmes_conjunto = set(filmes)\n",
        "print(filmes_conjunto)"
      ],
      "execution_count": 10,
      "outputs": [
        {
          "output_type": "stream",
          "name": "stdout",
          "text": [
            "{'Pulp Fiction: Tempo de Violência (1994)', 'O Senhor dos Anéis: O Retorno do Rei (2003)', 'A Lista de Schindler (1993)', 'O Poderoso Chefão (1972)', 'Star Wars: Episódio V – O Império Contra-Ataca (1980)', 'Um Sonho de Liberdade (1994)', 'O Poderoso Chefão: Parte II (1974)', 'Batman: O Cavaleiro das Trevas (2008)', '12 Homens e Uma Sentença (1957)', 'O Senhor dos Anéis: A Sociedade do Anel (2001)'}\n"
          ]
        }
      ]
    },
    {
      "cell_type": "markdown",
      "metadata": {
        "id": "ShkK35eQ6pAM"
      },
      "source": [
        "---"
      ]
    },
    {
      "cell_type": "markdown",
      "metadata": {
        "id": "COKF6UndDtgs"
      },
      "source": [
        "## 3\\. Dicionários"
      ]
    },
    {
      "cell_type": "markdown",
      "source": [
        "*   Neste momento, repita o passo a passo de criação da lista feita anteriormente: **uma lista** chamada `filmes` com o nome dos 10 primeiros filmes mais bem avaliados no site no IMDB.\n",
        "*   Adicione mais informações a essa estrutura de dados com o ano e a sinopse de cada filme.\n",
        "*   Os elementos da **lista** `filmes` devem ser dicionários no seguinte formato:\n",
        "        {'nome': <nome-do-filme>, 'ano': <ano do filme>, 'sinopse': <sinopse do filme>}"
      ],
      "metadata": {
        "id": "IZzCEEDTCswm"
      }
    },
    {
      "cell_type": "code",
      "metadata": {
        "id": "tu6MSFwGDnHv",
        "colab": {
          "base_uri": "https://localhost:8080/"
        },
        "outputId": "047218fa-b1a5-43b8-db1c-0e032432baa8"
      },
      "source": [
        "filmes = [\n",
        "    {\"nome\": \"Um Sonho de Liberdade\", \"ano\": 1994, \"sinopse\": \"Um banqueiro condenado injustamente à prisão desenvolve uma amizade com outro detento e encontra esperança em meio à adversidade.\"},\n",
        "    {\"nome\": \"O Poderoso Chefão\", \"ano\": 1972, \"sinopse\": \"A saga da família Corleone, uma poderosa organização mafiosa, e a ascensão de Michael Corleone ao comando do império criminoso.\"},\n",
        "    {\"nome\": \"Batman: O Cavaleiro das Trevas\", \"ano\": 2008, \"sinopse\": \"Batman enfrenta o caos instaurado pelo Coringa, um vilão imprevisível que desafia os limites da justiça em Gotham City.\"},\n",
        "    {\"nome\": \"O Poderoso Chefão: Parte II\", \"ano\": 1974, \"sinopse\": \"A história de Michael Corleone consolidando seu poder, intercalada com a juventude de seu pai, Vito Corleone, na Sicília.\"},\n",
        "    {\"nome\": \"12 Homens e Uma Sentença\", \"ano\": 1957, \"sinopse\": \"Doze jurados debatem o destino de um jovem acusado de assassinato, revelando preconceitos e dilemas morais ao longo da deliberação.\"},\n",
        "    {\"nome\": \"A Lista de Schindler\", \"ano\": 1993, \"sinopse\": \"A emocionante história de Oskar Schindler, um empresário que salva centenas de judeus do Holocausto ao empregá-los em sua fábrica.\"},\n",
        "    {\"nome\": \"O Senhor dos Anéis: O Retorno do Rei\", \"ano\": 2003, \"sinopse\": \"A batalha final pela Terra Média se desenrola enquanto Frodo e Sam se aproximam de Mordor para destruir o Um Anel.\"},\n",
        "    {\"nome\": \"Pulp Fiction: Tempo de Violência\", \"ano\": 1994, \"sinopse\": \"Histórias interligadas de criminosos, boxeadores e mafiosos em Los Angeles, com diálogos afiados e uma narrativa não linear.\"},\n",
        "    {\"nome\": \"O Senhor dos Anéis: A Sociedade do Anel\", \"ano\": 2001, \"sinopse\": \"Frodo Bolseiro embarca em uma jornada épica para destruir o Um Anel e impedir que Sauron domine a Terra Média.\"},\n",
        "    {\"nome\": \"Star Wars: Episódio V – O Império Contra-Ataca\", \"ano\": 1980, \"sinopse\": \"O Império intensifica sua perseguição aos rebeldes, enquanto Luke Skywalker treina com Yoda para enfrentar Darth Vader.\"}\n",
        "]\n",
        "\n",
        "for filme in filmes:\n",
        "    print(f\"Nome: {filme['nome']}, Ano: {filme['ano']}, Sinopse: {filme['sinopse']}\")\n"
      ],
      "execution_count": 11,
      "outputs": [
        {
          "output_type": "stream",
          "name": "stdout",
          "text": [
            "Nome: Um Sonho de Liberdade, Ano: 1994, Sinopse: Um banqueiro condenado injustamente à prisão desenvolve uma amizade com outro detento e encontra esperança em meio à adversidade.\n",
            "Nome: O Poderoso Chefão, Ano: 1972, Sinopse: A saga da família Corleone, uma poderosa organização mafiosa, e a ascensão de Michael Corleone ao comando do império criminoso.\n",
            "Nome: Batman: O Cavaleiro das Trevas, Ano: 2008, Sinopse: Batman enfrenta o caos instaurado pelo Coringa, um vilão imprevisível que desafia os limites da justiça em Gotham City.\n",
            "Nome: O Poderoso Chefão: Parte II, Ano: 1974, Sinopse: A história de Michael Corleone consolidando seu poder, intercalada com a juventude de seu pai, Vito Corleone, na Sicília.\n",
            "Nome: 12 Homens e Uma Sentença, Ano: 1957, Sinopse: Doze jurados debatem o destino de um jovem acusado de assassinato, revelando preconceitos e dilemas morais ao longo da deliberação.\n",
            "Nome: A Lista de Schindler, Ano: 1993, Sinopse: A emocionante história de Oskar Schindler, um empresário que salva centenas de judeus do Holocausto ao empregá-los em sua fábrica.\n",
            "Nome: O Senhor dos Anéis: O Retorno do Rei, Ano: 2003, Sinopse: A batalha final pela Terra Média se desenrola enquanto Frodo e Sam se aproximam de Mordor para destruir o Um Anel.\n",
            "Nome: Pulp Fiction: Tempo de Violência, Ano: 1994, Sinopse: Histórias interligadas de criminosos, boxeadores e mafiosos em Los Angeles, com diálogos afiados e uma narrativa não linear.\n",
            "Nome: O Senhor dos Anéis: A Sociedade do Anel, Ano: 2001, Sinopse: Frodo Bolseiro embarca em uma jornada épica para destruir o Um Anel e impedir que Sauron domine a Terra Média.\n",
            "Nome: Star Wars: Episódio V – O Império Contra-Ataca, Ano: 1980, Sinopse: O Império intensifica sua perseguição aos rebeldes, enquanto Luke Skywalker treina com Yoda para enfrentar Darth Vader.\n"
          ]
        }
      ]
    }
  ]
}