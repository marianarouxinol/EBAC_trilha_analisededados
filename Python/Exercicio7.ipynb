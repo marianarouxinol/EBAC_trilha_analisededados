{
  "nbformat": 4,
  "nbformat_minor": 0,
  "metadata": {
    "colab": {
      "provenance": [],
      "toc_visible": true
    },
    "kernelspec": {
      "name": "python3",
      "display_name": "Python 3"
    }
  },
  "cells": [
    {
      "cell_type": "markdown",
      "metadata": {
        "id": "KJqp9AANOCtf"
      },
      "source": [
        "<img src=\"https://raw.githubusercontent.com/andre-marcos-perez/ebac-course-utils/main/media/logo/newebac_logo_black_half.png\" alt=\"ebac-logo\">\n",
        "\n",
        "---\n",
        "\n",
        "# **Módulo** | Python: Tratamento de Erros\n",
        "Caderno de **Exercícios**<br>\n",
        "Professor [André Perez](https://www.linkedin.com/in/andremarcosperez/)\n",
        "\n",
        "---"
      ]
    },
    {
      "cell_type": "markdown",
      "metadata": {
        "id": "d9jDtUbDOE1-"
      },
      "source": [
        "# **Tópicos**\n",
        "\n",
        "<ol type=\"1\">\n",
        "  <li>Tipos de erros;</li>\n",
        "  <li>Erros de sintaxe;</li>\n",
        "  <li>Erros em tempo de execução.</li>\n",
        "</ol>"
      ]
    },
    {
      "cell_type": "markdown",
      "metadata": {
        "id": "SmoHgt-lwkpD"
      },
      "source": [
        "---"
      ]
    },
    {
      "cell_type": "markdown",
      "metadata": {
        "id": "GABI6OW8OfQ2"
      },
      "source": [
        "# **Exercícios**"
      ]
    },
    {
      "cell_type": "markdown",
      "metadata": {
        "id": "muD1vxozykSC"
      },
      "source": [
        "## 1\\. Erros de sintaxe"
      ]
    },
    {
      "cell_type": "markdown",
      "metadata": {
        "id": "ahrFfCuBxJKs"
      },
      "source": [
        "Identifique o erro de sintaxe nos trechos de código abaixo e corrija-os para que o trecho de código funcione."
      ]
    },
    {
      "cell_type": "markdown",
      "metadata": {
        "id": "sCluir52-zGM"
      },
      "source": [
        " - Laços de repetição."
      ]
    },
    {
      "cell_type": "code",
      "metadata": {
        "id": "eebFnvGd-zSC",
        "colab": {
          "base_uri": "https://localhost:8080/"
        },
        "outputId": "a2d716eb-5cb2-46ee-9a7d-0518d0e12e96"
      },
      "source": [
        "credito = {'123': 750, '456': 812, '789': 980}\n",
        "credito = {'123': 750, '456': 812, '789': 980}\n",
        "\n",
        "for chave, valor in credito.items():\n",
        "\n",
        "  print(f\"Para o documento {chave}, o valor do escore de crédito é {valor}.\")"
      ],
      "execution_count": 2,
      "outputs": [
        {
          "output_type": "stream",
          "name": "stdout",
          "text": [
            "Para o documento 123, o valor do escore de crédito é 750.\n",
            "Para o documento 456, o valor do escore de crédito é 812.\n",
            "Para o documento 789, o valor do escore de crédito é 980.\n"
          ]
        }
      ]
    },
    {
      "cell_type": "markdown",
      "metadata": {
        "id": "NKDaQYt889VZ"
      },
      "source": [
        " - Funções"
      ]
    },
    {
      "cell_type": "code",
      "metadata": {
        "id": "GZHnCmRH89hg",
        "colab": {
          "base_uri": "https://localhost:8080/"
        },
        "outputId": "ccbdac91-e119-4cf9-8a3d-6e1aa3300296"
      },
      "source": [
        "def pi() -> float:\n",
        "    return 3.14159265359\n",
        "\n",
        "pi_valor = pi()\n",
        "print(pi_valor)"
      ],
      "execution_count": 4,
      "outputs": [
        {
          "output_type": "stream",
          "name": "stdout",
          "text": [
            "3.14159265359\n"
          ]
        }
      ]
    },
    {
      "cell_type": "markdown",
      "metadata": {
        "id": "i6EIHmQZ8KMy"
      },
      "source": [
        "- Programação Funcional"
      ]
    },
    {
      "cell_type": "code",
      "metadata": {
        "id": "_1a3EEYU8JsU",
        "colab": {
          "base_uri": "https://localhost:8080/"
        },
        "outputId": "d2063428-bda6-4f8d-f4c3-fc284a72da11"
      },
      "source": [
        "emails = ['andre.perez@gmail.com', 'andre.perez@live.com', 'andre.perez@yahoo.com']\n",
        "\n",
        "provedor_da_google = lambda email: \"gmail\" in email\n",
        "\n",
        "emails_google = filter(provedor_da_google, emails)\n",
        "\n",
        "print(list(emails_google))"
      ],
      "execution_count": 5,
      "outputs": [
        {
          "output_type": "stream",
          "name": "stdout",
          "text": [
            "['andre.perez@gmail.com']\n"
          ]
        }
      ]
    },
    {
      "cell_type": "markdown",
      "metadata": {
        "id": "KI9zQRT2xa7m"
      },
      "source": [
        "- Programação orientação a objetos"
      ]
    },
    {
      "cell_type": "code",
      "metadata": {
        "id": "XD-C996C7gvN",
        "colab": {
          "base_uri": "https://localhost:8080/"
        },
        "outputId": "b5adc83d-3542-497b-f64d-e46633c6cf48"
      },
      "source": [
        "class Pessoa(object):\n",
        "    def __init__(self, nome: str, idade: int, documento: str):\n",
        "        self.nome = nome\n",
        "        self.idade = idade\n",
        "        self.documento = documento\n",
        "\n",
        "andre = Pessoa(nome=\"Andre\", idade=30, documento=\"123\")\n",
        "\n",
        "print(f\"Nome: {andre.nome}, Idade: {andre.idade}, Documento: {andre.documento}\")"
      ],
      "execution_count": 6,
      "outputs": [
        {
          "output_type": "stream",
          "name": "stdout",
          "text": [
            "Nome: Andre, Idade: 30, Documento: 123\n"
          ]
        }
      ]
    },
    {
      "cell_type": "markdown",
      "metadata": {
        "id": "zMN1Q3jdwoJm"
      },
      "source": [
        "---"
      ]
    },
    {
      "cell_type": "markdown",
      "metadata": {
        "id": "qh4asQbf6dBX"
      },
      "source": [
        "## 2\\. Erros em tempo de execução"
      ]
    },
    {
      "cell_type": "markdown",
      "metadata": {
        "id": "71iuLvVJ6dB-"
      },
      "source": [
        "Neste exercício vamos trabalhar com o arquivo csv com dados de crédito, definido abaixo. Execute cada uma das células de código para escrever os arquivos na sua máquina virtual."
      ]
    },
    {
      "cell_type": "code",
      "metadata": {
        "id": "FCBXZUQd3frz",
        "colab": {
          "base_uri": "https://localhost:8080/"
        },
        "outputId": "6a1b2dc2-e12f-48ab-a605-71243365c883"
      },
      "source": [
        "%%writefile credito.csv\n",
        "id_vendedor,valor_emprestimos,quantidade_emprestimos,data\n",
        "104271,448.0,1,20161208\n",
        "21476,826.7,3,20161208\n",
        "87440,313.6,3,20161208\n",
        "15980,808.0,6,20161208\n",
        "215906,2212.0,5,20161208\n",
        "33696,2771.3,2,20161208\n",
        "33893,2240.0,3,20161208\n",
        "214946,\"4151.0\",18,20161208\n",
        "123974,2021.95,2,20161208\n",
        "225870,4039.0,2,20161208"
      ],
      "execution_count": 7,
      "outputs": [
        {
          "output_type": "stream",
          "name": "stdout",
          "text": [
            "Writing credito.csv\n"
          ]
        }
      ]
    },
    {
      "cell_type": "markdown",
      "metadata": {
        "id": "FIe14G9H3779"
      },
      "source": [
        "O código abaixo deve calcular o total emprestado por cada vendedor mas está \"estourando\" a exceção `ValueError` devido a um erro no conjunto de dados. Utilize a estrutura `try-catch` para garantir que o código seja executado com sucesso.\n",
        "\n",
        "**Atenção:** Você não deve alterar o arquivo de dados."
      ]
    },
    {
      "cell_type": "code",
      "metadata": {
        "id": "cOkNYOdd5GMK",
        "colab": {
          "base_uri": "https://localhost:8080/"
        },
        "outputId": "3dd6367f-930a-4542-aa19-ce7bf403c79c"
      },
      "source": [
        "def valor_total_emprestimo(valor: float, quantidade: int) -> float:\n",
        "    return valor * quantidade\n",
        "\n",
        "emprestimos = []\n",
        "\n",
        "\n",
        "with open(\"credito.csv\", mode=\"r\", encoding=\"utf8\") as fp:\n",
        "    fp.readline()\n",
        "    linha = fp.readline()\n",
        "\n",
        "    while linha:\n",
        "        linha_emprestimo = {}\n",
        "        linha_elementos = linha.strip().split(sep=',')\n",
        "\n",
        "        try:\n",
        "\n",
        "            linha_emprestimo['id_vendedor'] = linha_elementos[0]\n",
        "            linha_emprestimo['valor_emprestimos'] = float(linha_elementos[1].replace('\"', '').strip())\n",
        "            linha_emprestimo['quantidade_emprestimos'] = int(linha_elementos[2])\n",
        "            linha_emprestimo['data'] = linha_elementos[3]\n",
        "\n",
        "            emprestimos.append(linha_emprestimo)\n",
        "        except ValueError:\n",
        "            print(f\"Erro ao converter valores na linha: {linha.strip()}\")\n",
        "\n",
        "        linha = fp.readline()\n",
        "\n",
        "\n",
        "emprestimos_total = []\n",
        "for emprestimo in emprestimos:\n",
        "    valor_total = valor_total_emprestimo(valor=emprestimo['valor_emprestimos'], quantidade=emprestimo['quantidade_emprestimos'])\n",
        "    emprestimos_total.append({emprestimo['id_vendedor']: round(valor_total, 2)})  # Arredonda para 2 casas decimais\n",
        "\n",
        "\n",
        "for emprestimo_total in emprestimos_total:\n",
        "    print(emprestimo_total)"
      ],
      "execution_count": 8,
      "outputs": [
        {
          "output_type": "stream",
          "name": "stdout",
          "text": [
            "{'104271': 448.0}\n",
            "{'21476': 2480.1}\n",
            "{'87440': 940.8}\n",
            "{'15980': 4848.0}\n",
            "{'215906': 11060.0}\n",
            "{'33696': 5542.6}\n",
            "{'33893': 6720.0}\n",
            "{'214946': 74718.0}\n",
            "{'123974': 4043.9}\n",
            "{'225870': 8078.0}\n"
          ]
        }
      ]
    },
    {
      "cell_type": "markdown",
      "metadata": {
        "id": "0dKgZEQB8ZwP"
      },
      "source": [
        "O resultado final deve ser a impressão da seguinte lista:\n",
        "\n",
        "```\n",
        "{'104271': 448.0}\n",
        "{'21476': 2480.1000000000004}\n",
        "{'87440': 940.8000000000001}\n",
        "{'15980': 4848.0}\n",
        "{'215906': 11060.0}\n",
        "{'33696': 5542.6}\n",
        "{'33893': 6720.0}\n",
        "{'214946': 74718.0}\n",
        "{'123974': 4043.9}\n",
        "{'225870': 8078.0}\n",
        "```"
      ]
    },
    {
      "cell_type": "markdown",
      "metadata": {
        "id": "zkqY6ImS6dCB"
      },
      "source": [
        "---"
      ]
    }
  ]
}